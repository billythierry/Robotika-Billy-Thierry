{
 "cells": [
  {
   "cell_type": "code",
   "execution_count": null,
   "id": "2789020a-1af0-4e4d-9bd8-4336ef757b56",
   "metadata": {},
   "outputs": [],
   "source": [
    "from ultralytics import YOLO\n",
    "import cv2\n",
    "import math\n",
    "\n",
    "# Inisialisasi webcam\n",
    "cap = cv2.VideoCapture(2)\n",
    "cap.set(3, 640)\n",
    "cap.set(4, 480)\n",
    "\n",
    "# Load model YOLOv8\n",
    "model = YOLO(\"yolov8n.pt\")  # Pastikan file model tersedia\n",
    "\n",
    "# Daftar kelas objek\n",
    "classNames = model.names\n",
    "\n",
    "while True:\n",
    "    success, img = cap.read()\n",
    "    results = model(img, stream=True)\n",
    "\n",
    "    for r in results:\n",
    "        boxes = r.boxes\n",
    "        for box in boxes:\n",
    "            # Koordinat bounding box\n",
    "            x1, y1, x2, y2 = map(int, box.xyxy[0])\n",
    "            # Gambar kotak pada objek\n",
    "            cv2.rectangle(img, (x1, y1), (x2, y2), (255, 0, 255), 3)\n",
    "            # Confidence score\n",
    "            confidence = math.ceil((box.conf[0] * 100)) / 100\n",
    "            # Nama kelas\n",
    "            cls = int(box.cls[0])\n",
    "            cv2.putText(img, classNames[cls], (x1, y1 - 10),\n",
    "                        cv2.FONT_HERSHEY_SIMPLEX, 1, (255, 0, 0), 2)\n",
    "\n",
    "    cv2.imshow('Webcam', img)\n",
    "    if cv2.waitKey(1) == ord('q'):\n",
    "        break\n",
    "\n",
    "cap.release()\n",
    "cv2.destroyAllWindows()\n"
   ]
  },
  {
   "cell_type": "code",
   "execution_count": null,
   "id": "360c0923-4292-44fa-b341-f8bef12ca814",
   "metadata": {},
   "outputs": [],
   "source": []
  }
 ],
 "metadata": {
  "kernelspec": {
   "display_name": "Python [conda env:base] *",
   "language": "python",
   "name": "conda-base-py"
  },
  "language_info": {
   "codemirror_mode": {
    "name": "ipython",
    "version": 3
   },
   "file_extension": ".py",
   "mimetype": "text/x-python",
   "name": "python",
   "nbconvert_exporter": "python",
   "pygments_lexer": "ipython3",
   "version": "3.12.7"
  }
 },
 "nbformat": 4,
 "nbformat_minor": 5
}
