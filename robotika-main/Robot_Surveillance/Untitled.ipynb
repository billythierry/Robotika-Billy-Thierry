{
 "cells": [
  {
   "cell_type": "code",
   "execution_count": 6,
   "id": "e1fc8cb2-13a1-499a-9589-77a020d8d38d",
   "metadata": {},
   "outputs": [],
   "source": [
    "x=3.3/255"
   ]
  },
  {
   "cell_type": "code",
   "execution_count": 7,
   "id": "5ce0eb01-0dfc-4c7d-ad56-df9fe02dd365",
   "metadata": {},
   "outputs": [
    {
     "data": {
      "text/plain": [
       "1.2941176470588236e-05"
      ]
     },
     "execution_count": 7,
     "metadata": {},
     "output_type": "execute_result"
    }
   ],
   "source": [
    "x/1000"
   ]
  },
  {
   "cell_type": "code",
   "execution_count": 8,
   "id": "cd99f7da-009a-4431-b641-65d8e0d0511c",
   "metadata": {},
   "outputs": [
    {
     "data": {
      "text/plain": [
       "127.5"
      ]
     },
     "execution_count": 8,
     "metadata": {},
     "output_type": "execute_result"
    }
   ],
   "source": [
    "255/2"
   ]
  },
  {
   "cell_type": "code",
   "execution_count": 9,
   "id": "a0744a31-d62e-44ea-b8d7-8cbb05e61a40",
   "metadata": {},
   "outputs": [
    {
     "data": {
      "text/plain": [
       "1.65"
      ]
     },
     "execution_count": 9,
     "metadata": {},
     "output_type": "execute_result"
    }
   ],
   "source": [
    "3.3/2"
   ]
  },
  {
   "cell_type": "code",
   "execution_count": 10,
   "id": "5098d170-d5fe-4620-ba36-159c7d90e6e7",
   "metadata": {},
   "outputs": [
    {
     "data": {
      "text/plain": [
       "0"
      ]
     },
     "execution_count": 10,
     "metadata": {},
     "output_type": "execute_result"
    }
   ],
   "source": [
    "2^2"
   ]
  },
  {
   "cell_type": "code",
   "execution_count": 11,
   "id": "4f5e7b36-20d3-48ec-afc6-29b3130e0629",
   "metadata": {},
   "outputs": [
    {
     "data": {
      "text/plain": [
       "10.24"
      ]
     },
     "execution_count": 11,
     "metadata": {},
     "output_type": "execute_result"
    }
   ],
   "source": [
    "3.3/0.322265625"
   ]
  },
  {
   "cell_type": "code",
   "execution_count": 13,
   "id": "693aabf8-376f-4027-a173-3c1fbf2bf4a6",
   "metadata": {},
   "outputs": [
    {
     "data": {
      "text/plain": [
       "1024"
      ]
     },
     "execution_count": 13,
     "metadata": {},
     "output_type": "execute_result"
    }
   ],
   "source": [
    "256*2*2"
   ]
  },
  {
   "cell_type": "code",
   "execution_count": 17,
   "id": "b71632f7-258d-4705-a34d-d766f2b84913",
   "metadata": {},
   "outputs": [],
   "source": [
    "x=(3.3/1024)"
   ]
  },
  {
   "cell_type": "code",
   "execution_count": 18,
   "id": "33e5e021-3260-44bb-8fae-fb06aff5c866",
   "metadata": {},
   "outputs": [
    {
     "data": {
      "text/plain": [
       "3.22265625e-06"
      ]
     },
     "execution_count": 18,
     "metadata": {},
     "output_type": "execute_result"
    }
   ],
   "source": [
    "x/1000"
   ]
  },
  {
   "cell_type": "code",
   "execution_count": null,
   "id": "2bd4830e-d6a3-49a6-9cec-a80526dfb713",
   "metadata": {},
   "outputs": [],
   "source": []
  }
 ],
 "metadata": {
  "kernelspec": {
   "display_name": "Python 3 (ipykernel)",
   "language": "python",
   "name": "python3"
  },
  "language_info": {
   "codemirror_mode": {
    "name": "ipython",
    "version": 3
   },
   "file_extension": ".py",
   "mimetype": "text/x-python",
   "name": "python",
   "nbconvert_exporter": "python",
   "pygments_lexer": "ipython3",
   "version": "3.11.6"
  }
 },
 "nbformat": 4,
 "nbformat_minor": 5
}
