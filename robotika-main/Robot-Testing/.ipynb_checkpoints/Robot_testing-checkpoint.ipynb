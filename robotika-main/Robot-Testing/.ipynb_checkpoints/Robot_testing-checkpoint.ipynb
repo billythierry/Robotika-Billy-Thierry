{
 "cells": [
  {
   "cell_type": "code",
   "execution_count": 2,
   "metadata": {},
   "outputs": [
    {
     "name": "stdout",
     "output_type": "stream",
     "text": [
      "Terhubung ke COM6 pada 115200 baudrate.\n"
     ]
    }
   ],
   "source": [
    "import serial as s\n",
    "port = \"COM4\"\n",
    "baudrate = 115200\n",
    "ser = s.Serial(port, baudrate, timeout=1)\n",
    "print(f\"Terhubung ke {port} pada {baudrate} baudrate.\")"
   ]
  },
  {
   "cell_type": "code",
   "execution_count": 1,
   "metadata": {},
   "outputs": [],
   "source": [
    "import serial as s\n",
    "port = \"COM4\"\n",
    "baudrate = 115200\n",
    "ser = s.Serial(port, baudrate, timeout=1)\n",
    "ser.close()"
   ]
  },
  {
   "cell_type": "code",
   "execution_count": 10,
   "metadata": {},
   "outputs": [
    {
     "name": "stdout",
     "output_type": "stream",
     "text": [
      "Gagal membuka port COM6: could not open port 'COM6': PermissionError(13, 'Access is denied.', None, 5)\n",
      "Tekan '1' untuk RUN (kirim '1')\n",
      "Tekan '0' untuk STOP (kirim '0')\n",
      "Tekan 'q' untuk keluar\n"
     ]
    },
    {
     "name": "stdin",
     "output_type": "stream",
     "text": [
      "Input [1/0/q]:  q\n"
     ]
    },
    {
     "name": "stdout",
     "output_type": "stream",
     "text": [
      "Keluar dari program.\n"
     ]
    }
   ],
   "source": [
    "import keyboard\n",
    "import serial as s\n",
    "port = \"COM4\"\n",
    "baudrate = 115200\n",
    "\n",
    "try:\n",
    "    ser = s.Serial(port, baudrate, timeout=1)\n",
    "    print(f\"Terhubung ke {port} pada {baudrate} baudrate.\")\n",
    "except Exception as e:\n",
    "    print(f\"Gagal membuka port {port}: {e}\")\n",
    "    exit()\n",
    "\n",
    "print(\"Tekan '1' untuk RUN (kirim '1')\")\n",
    "print(\"Tekan '0' untuk STOP (kirim '0')\")\n",
    "print(\"Tekan 'q' untuk keluar\")\n",
    "\n",
    "while True:\n",
    "    cmd = input(\"Input [1/0/q]: \").strip()\n",
    "    if cmd == '1':\n",
    "        ser.write(b'1')\n",
    "        print(\"Kirim: 1 (RUN)\")\n",
    "    elif cmd == '0':\n",
    "        ser.write(b'0')\n",
    "        print(\"Kirim: 0 (STOP)\")\n",
    "    elif cmd.lower() == 'q':\n",
    "        print(\"Keluar dari program.\")\n",
    "        break\n",
    "        ser.close()        \n",
    "    else:\n",
    "        print(\"Perintah tidak dikenal. Masukkan '1', '0', atau 'q'.\")\n"
   ]
  },
  {
   "cell_type": "code",
   "execution_count": null,
   "metadata": {},
   "outputs": [],
   "source": [
    "import keyboard\n",
    "import serial as s\n",
    "port = \"COM4\"\n",
    "baudrate = 115200\n",
    "\n",
    "try:\n",
    "    ser = s.Serial(port, baudrate, timeout=1)\n",
    "    print(f\"Terhubung ke {port} pada {baudrate} baudrate.\")\n",
    "except Exception as e:\n",
    "    print(f\"Gagal membuka port {port}: {e}\")\n",
    "    exit()\n",
    "\n",
    "print(\"Tekan '1' untuk RUN (kirim '1')\")\n",
    "print(\"Tekan '0' untuk STOP (kirim '0')\")\n",
    "print(\"Tekan 'q' untuk keluar\")\n",
    "\n",
    "while True:\n",
    "    cmd = input(\"Input [1/2/3/4/0/q]: \").strip()\n",
    "    if cmd == '1':\n",
    "        ser.write(b'1')\n",
    "        print(\"Kirim: 1 (FOWARD)\")\n",
    "    if cmd == '2':\n",
    "        ser.write(b'2')\n",
    "        print(\"Kirim: 2 (TURN RIGHT)\")\n",
    "    if cmd == '3':\n",
    "        ser.write(b'3')\n",
    "        print(\"Kirim: 3 (TURN LEFT)\")\n",
    "    if cmd == '4':\n",
    "        ser.write(b'4')\n",
    "        print(\"Kirim: 4 (BACKWARD)\")\n",
    "    elif cmd == '0':\n",
    "        ser.write(b'0')\n",
    "        print(\"Kirim: 0 (STOP)\")\n",
    "    elif cmd.lower() == 'q':\n",
    "        print(\"Keluar dari program.\")\n",
    "        break\n",
    "        ser.close()        \n",
    "    else:\n",
    "        print(\"Perintah tidak dikenal. Masukkan '1','2','3','4', '0', atau 'q'.\")\n"
   ]
  },
  {
   "cell_type": "code",
   "execution_count": null,
   "metadata": {},
   "outputs": [],
   "source": []
  }
 ],
 "metadata": {
  "anaconda-cloud": {},
  "kernelspec": {
   "display_name": "Python 3 (ipykernel)",
   "language": "python",
   "name": "python3"
  },
  "language_info": {
   "codemirror_mode": {
    "name": "ipython",
    "version": 3
   },
   "file_extension": ".py",
   "mimetype": "text/x-python",
   "name": "python",
   "nbconvert_exporter": "python",
   "pygments_lexer": "ipython3",
   "version": "3.13.3"
  },
  "widgets": {
   "state": {
    "43a770e6b0524d899f4a1126019a0c2f": {
     "views": [
      {
       "cell_index": 1
      }
     ]
    }
   },
   "version": "1.2.0"
  }
 },
 "nbformat": 4,
 "nbformat_minor": 4
}
