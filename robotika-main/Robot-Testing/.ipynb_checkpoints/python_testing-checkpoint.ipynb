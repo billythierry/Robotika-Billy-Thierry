{
 "cells": [
  {
   "cell_type": "code",
   "execution_count": 2,
   "metadata": {},
   "outputs": [
    {
     "ename": "SerialException",
     "evalue": "could not open port 'COM6': PermissionError(13, 'Access is denied.', None, 5)",
     "output_type": "error",
     "traceback": [
      "\u001b[1;31m---------------------------------------------------------------------------\u001b[0m",
      "\u001b[1;31mSerialException\u001b[0m                           Traceback (most recent call last)",
      "Cell \u001b[1;32mIn[2], line 4\u001b[0m\n\u001b[0;32m      2\u001b[0m port \u001b[38;5;241m=\u001b[39m \u001b[38;5;124m\"\u001b[39m\u001b[38;5;124mCOM6\u001b[39m\u001b[38;5;124m\"\u001b[39m\n\u001b[0;32m      3\u001b[0m baudrate \u001b[38;5;241m=\u001b[39m \u001b[38;5;241m115200\u001b[39m\n\u001b[1;32m----> 4\u001b[0m ser \u001b[38;5;241m=\u001b[39m \u001b[43ms\u001b[49m\u001b[38;5;241;43m.\u001b[39;49m\u001b[43mSerial\u001b[49m\u001b[43m(\u001b[49m\u001b[43mport\u001b[49m\u001b[43m,\u001b[49m\u001b[43m \u001b[49m\u001b[43mbaudrate\u001b[49m\u001b[43m,\u001b[49m\u001b[43m \u001b[49m\u001b[43mtimeout\u001b[49m\u001b[38;5;241;43m=\u001b[39;49m\u001b[38;5;241;43m1\u001b[39;49m\u001b[43m)\u001b[49m\n\u001b[0;32m      5\u001b[0m \u001b[38;5;28mprint\u001b[39m(\u001b[38;5;124mf\u001b[39m\u001b[38;5;124m\"\u001b[39m\u001b[38;5;124mTerhubung ke \u001b[39m\u001b[38;5;132;01m{\u001b[39;00mport\u001b[38;5;132;01m}\u001b[39;00m\u001b[38;5;124m pada \u001b[39m\u001b[38;5;132;01m{\u001b[39;00mbaudrate\u001b[38;5;132;01m}\u001b[39;00m\u001b[38;5;124m baudrate.\u001b[39m\u001b[38;5;124m\"\u001b[39m)\n",
      "File \u001b[1;32m~\\AppData\\Local\\Programs\\Python\\Python311\\Lib\\site-packages\\serial\\serialwin32.py:33\u001b[0m, in \u001b[0;36mSerial.__init__\u001b[1;34m(self, *args, **kwargs)\u001b[0m\n\u001b[0;32m     31\u001b[0m \u001b[38;5;28mself\u001b[39m\u001b[38;5;241m.\u001b[39m_overlapped_read \u001b[38;5;241m=\u001b[39m \u001b[38;5;28;01mNone\u001b[39;00m\n\u001b[0;32m     32\u001b[0m \u001b[38;5;28mself\u001b[39m\u001b[38;5;241m.\u001b[39m_overlapped_write \u001b[38;5;241m=\u001b[39m \u001b[38;5;28;01mNone\u001b[39;00m\n\u001b[1;32m---> 33\u001b[0m \u001b[38;5;28;43msuper\u001b[39;49m\u001b[43m(\u001b[49m\u001b[43mSerial\u001b[49m\u001b[43m,\u001b[49m\u001b[43m \u001b[49m\u001b[38;5;28;43mself\u001b[39;49m\u001b[43m)\u001b[49m\u001b[38;5;241;43m.\u001b[39;49m\u001b[38;5;21;43m__init__\u001b[39;49m\u001b[43m(\u001b[49m\u001b[38;5;241;43m*\u001b[39;49m\u001b[43margs\u001b[49m\u001b[43m,\u001b[49m\u001b[43m \u001b[49m\u001b[38;5;241;43m*\u001b[39;49m\u001b[38;5;241;43m*\u001b[39;49m\u001b[43mkwargs\u001b[49m\u001b[43m)\u001b[49m\n",
      "File \u001b[1;32m~\\AppData\\Local\\Programs\\Python\\Python311\\Lib\\site-packages\\serial\\serialutil.py:244\u001b[0m, in \u001b[0;36mSerialBase.__init__\u001b[1;34m(self, port, baudrate, bytesize, parity, stopbits, timeout, xonxoff, rtscts, write_timeout, dsrdtr, inter_byte_timeout, exclusive, **kwargs)\u001b[0m\n\u001b[0;32m    241\u001b[0m     \u001b[38;5;28;01mraise\u001b[39;00m \u001b[38;5;167;01mValueError\u001b[39;00m(\u001b[38;5;124m'\u001b[39m\u001b[38;5;124munexpected keyword arguments: \u001b[39m\u001b[38;5;132;01m{!r}\u001b[39;00m\u001b[38;5;124m'\u001b[39m\u001b[38;5;241m.\u001b[39mformat(kwargs))\n\u001b[0;32m    243\u001b[0m \u001b[38;5;28;01mif\u001b[39;00m port \u001b[38;5;129;01mis\u001b[39;00m \u001b[38;5;129;01mnot\u001b[39;00m \u001b[38;5;28;01mNone\u001b[39;00m:\n\u001b[1;32m--> 244\u001b[0m     \u001b[38;5;28;43mself\u001b[39;49m\u001b[38;5;241;43m.\u001b[39;49m\u001b[43mopen\u001b[49m\u001b[43m(\u001b[49m\u001b[43m)\u001b[49m\n",
      "File \u001b[1;32m~\\AppData\\Local\\Programs\\Python\\Python311\\Lib\\site-packages\\serial\\serialwin32.py:64\u001b[0m, in \u001b[0;36mSerial.open\u001b[1;34m(self)\u001b[0m\n\u001b[0;32m     62\u001b[0m \u001b[38;5;28;01mif\u001b[39;00m \u001b[38;5;28mself\u001b[39m\u001b[38;5;241m.\u001b[39m_port_handle \u001b[38;5;241m==\u001b[39m win32\u001b[38;5;241m.\u001b[39mINVALID_HANDLE_VALUE:\n\u001b[0;32m     63\u001b[0m     \u001b[38;5;28mself\u001b[39m\u001b[38;5;241m.\u001b[39m_port_handle \u001b[38;5;241m=\u001b[39m \u001b[38;5;28;01mNone\u001b[39;00m    \u001b[38;5;66;03m# 'cause __del__ is called anyway\u001b[39;00m\n\u001b[1;32m---> 64\u001b[0m     \u001b[38;5;28;01mraise\u001b[39;00m SerialException(\u001b[38;5;124m\"\u001b[39m\u001b[38;5;124mcould not open port \u001b[39m\u001b[38;5;132;01m{!r}\u001b[39;00m\u001b[38;5;124m: \u001b[39m\u001b[38;5;132;01m{!r}\u001b[39;00m\u001b[38;5;124m\"\u001b[39m\u001b[38;5;241m.\u001b[39mformat(\u001b[38;5;28mself\u001b[39m\u001b[38;5;241m.\u001b[39mportstr, ctypes\u001b[38;5;241m.\u001b[39mWinError()))\n\u001b[0;32m     66\u001b[0m \u001b[38;5;28;01mtry\u001b[39;00m:\n\u001b[0;32m     67\u001b[0m     \u001b[38;5;28mself\u001b[39m\u001b[38;5;241m.\u001b[39m_overlapped_read \u001b[38;5;241m=\u001b[39m win32\u001b[38;5;241m.\u001b[39mOVERLAPPED()\n",
      "\u001b[1;31mSerialException\u001b[0m: could not open port 'COM6': PermissionError(13, 'Access is denied.', None, 5)"
     ]
    }
   ],
   "source": [
    "import serial as s\n",
    "port = \"COM6\"\n",
    "baudrate = 115200\n",
    "ser = s.Serial(port, baudrate, timeout=1)\n",
    "print(f\"Terhubung ke {port} pada {baudrate} baudrate.\")"
   ]
  },
  {
   "cell_type": "code",
   "execution_count": 3,
   "metadata": {},
   "outputs": [
    {
     "name": "stdout",
     "output_type": "stream",
     "text": [
      "Terhubung ke COM6 pada 115200 baudrate.\n",
      "Tekan 'r' untuk RUN (kirim '1')\n",
      "Tekan 's' untuk STOP (kirim '0')\n",
      "Tekan 'q' untuk keluar\n"
     ]
    }
   ],
   "source": [
    "import keyboard\n",
    "import serial as s\n",
    "port = \"COM6\"\n",
    "baudrate = 115200\n",
    "\n",
    "try:\n",
    "    ser = s.Serial(port, baudrate, timeout=1)\n",
    "    print(f\"Terhubung ke {port} pada {baudrate} baudrate.\")\n",
    "except Exception as e:\n",
    "    print(f\"Gagal membuka port {port}: {e}\")\n",
    "    exit()\n",
    "\n",
    "print(\"Tekan 'r' untuk RUN (kirim '1')\")\n",
    "print(\"Tekan 's' untuk STOP (kirim '0')\")\n",
    "print(\"Tekan 'q' untuk keluar\")\n",
    "\n",
    "try:\n",
    "    while True:\n",
    "        if keyboard.is_pressed('r'):\n",
    "            ser.write(b'1')\n",
    "            print(\"Kirim: 1 (RUN)\")\n",
    "            time.sleep(0.3) # debounce\n",
    "        elif keyboard.is_pressed('s'):\n",
    "            ser.write(b'0')\n",
    "            print(\"Kirim: 0 (STOP)\")\n",
    "            time.sleep(0.3)\n",
    "        elif keyboard.is_pressed('q'):\n",
    "            print(\"Keluar program.\")\n",
    "        break\n",
    "except KeyboardInterrupt:\n",
    "    print(\"Dihentikan oleh pengguna.\")\n",
    "finally:\n",
    "    ser.close()"
   ]
  },
  {
   "cell_type": "code",
   "execution_count": 1,
   "metadata": {},
   "outputs": [
    {
     "name": "stdout",
     "output_type": "stream",
     "text": [
      "Gagal membuka port COM6: could not open port 'COM6': PermissionError(13, 'Access is denied.', None, 5)\n",
      "Tekan '1' untuk RUN (kirim '1')\n",
      "Tekan '0' untuk STOP (kirim '0')\n",
      "Tekan 'q' untuk keluar\n"
     ]
    },
    {
     "name": "stdin",
     "output_type": "stream",
     "text": [
      "Input [1/0/q]:  q\n"
     ]
    },
    {
     "name": "stdout",
     "output_type": "stream",
     "text": [
      "Keluar dari program.\n"
     ]
    }
   ],
   "source": [
    "import keyboard\n",
    "import serial as s\n",
    "port = \"COM6\"\n",
    "baudrate = 115200\n",
    "\n",
    "try:\n",
    "    ser = s.Serial(port, baudrate, timeout=1)\n",
    "    print(f\"Terhubung ke {port} pada {baudrate} baudrate.\")\n",
    "except Exception as e:\n",
    "    print(f\"Gagal membuka port {port}: {e}\")\n",
    "    exit()\n",
    "\n",
    "print(\"Tekan '1' untuk RUN (kirim '1')\")\n",
    "print(\"Tekan '0' untuk STOP (kirim '0')\")\n",
    "print(\"Tekan 'q' untuk keluar\")\n",
    "\n",
    "while True:\n",
    "    cmd = input(\"Input [1/0/q]: \").strip()\n",
    "    if cmd == '1':\n",
    "        ser.write(b'1')\n",
    "        print(\"Kirim: 1 (RUN)\")\n",
    "    elif cmd == '0':\n",
    "        ser.write(b'0')\n",
    "        print(\"Kirim: 0 (STOP)\")\n",
    "    elif cmd.lower() == 'q':\n",
    "        print(\"Keluar dari program.\")\n",
    "        break\n",
    "        ser.close()        \n",
    "    else:\n",
    "        print(\"Perintah tidak dikenal. Masukkan '1', '0', atau 'q'.\")\n"
   ]
  },
  {
   "cell_type": "code",
   "execution_count": 1,
   "metadata": {},
   "outputs": [
    {
     "ename": "NameError",
     "evalue": "name 'ser' is not defined",
     "output_type": "error",
     "traceback": [
      "\u001b[1;31m---------------------------------------------------------------------------\u001b[0m",
      "\u001b[1;31mNameError\u001b[0m                                 Traceback (most recent call last)",
      "Cell \u001b[1;32mIn[1], line 1\u001b[0m\n\u001b[1;32m----> 1\u001b[0m \u001b[43mser\u001b[49m\u001b[38;5;241m.\u001b[39mclose()\n",
      "\u001b[1;31mNameError\u001b[0m: name 'ser' is not defined"
     ]
    }
   ],
   "source": [
    "import keyboard\n",
    "import serial as s\n",
    "port = \"COM6\"\n",
    "baudrate = 115200\n",
    "\n",
    "try:\n",
    "    ser = s.Serial(port, baudrate, timeout=1)\n",
    "    print(f\"Terhubung ke {port} pada {baudrate} baudrate.\")\n",
    "except Exception as e:\n",
    "    print(f\"Gagal membuka port {port}: {e}\")\n",
    "    exit()\n",
    "    \n",
    "ser.close()"
   ]
  },
  {
   "cell_type": "code",
   "execution_count": null,
   "metadata": {},
   "outputs": [],
   "source": []
  }
 ],
 "metadata": {
  "anaconda-cloud": {},
  "kernelspec": {
   "display_name": "Python 3 (ipykernel)",
   "language": "python",
   "name": "python3"
  },
  "language_info": {
   "codemirror_mode": {
    "name": "ipython",
    "version": 3
   },
   "file_extension": ".py",
   "mimetype": "text/x-python",
   "name": "python",
   "nbconvert_exporter": "python",
   "pygments_lexer": "ipython3",
   "version": "3.11.6"
  },
  "widgets": {
   "state": {
    "43a770e6b0524d899f4a1126019a0c2f": {
     "views": [
      {
       "cell_index": 1
      }
     ]
    }
   },
   "version": "1.2.0"
  }
 },
 "nbformat": 4,
 "nbformat_minor": 4
}
