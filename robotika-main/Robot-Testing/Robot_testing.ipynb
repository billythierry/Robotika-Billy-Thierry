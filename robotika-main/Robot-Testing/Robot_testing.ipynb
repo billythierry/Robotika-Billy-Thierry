{
 "cells": [
  {
   "cell_type": "code",
   "execution_count": 1,
   "metadata": {},
   "outputs": [
    {
     "ename": "ModuleNotFoundError",
     "evalue": "No module named 'serial'",
     "output_type": "error",
     "traceback": [
      "\u001b[1;31m---------------------------------------------------------------------------\u001b[0m",
      "\u001b[1;31mModuleNotFoundError\u001b[0m                       Traceback (most recent call last)",
      "Cell \u001b[1;32mIn[1], line 1\u001b[0m\n\u001b[1;32m----> 1\u001b[0m \u001b[38;5;28;01mimport\u001b[39;00m \u001b[38;5;21;01mserial\u001b[39;00m \u001b[38;5;28;01mas\u001b[39;00m \u001b[38;5;21;01ms\u001b[39;00m\n\u001b[0;32m      2\u001b[0m port \u001b[38;5;241m=\u001b[39m \u001b[38;5;124m\"\u001b[39m\u001b[38;5;124mCOM4\u001b[39m\u001b[38;5;124m\"\u001b[39m\n\u001b[0;32m      3\u001b[0m baudrate \u001b[38;5;241m=\u001b[39m \u001b[38;5;241m115200\u001b[39m\n",
      "\u001b[1;31mModuleNotFoundError\u001b[0m: No module named 'serial'"
     ]
    }
   ],
   "source": [
    "import serial as s\n",
    "port = \"COM4\"\n",
    "baudrate = 115200\n",
    "ser = s.Serial(port, baudrate, timeout=1)\n",
    "print(f\"Terhubung ke {port} pada {baudrate} baudrate.\")"
   ]
  },
  {
   "cell_type": "code",
   "execution_count": 1,
   "metadata": {},
   "outputs": [],
   "source": [
    "import serial as s\n",
    "port = \"COM4\"\n",
    "baudrate = 115200\n",
    "ser = s.Serial(port, baudrate, timeout=1)\n",
    "ser.close()"
   ]
  },
  {
   "cell_type": "code",
   "execution_count": 10,
   "metadata": {},
   "outputs": [
    {
     "name": "stdout",
     "output_type": "stream",
     "text": [
      "Gagal membuka port COM6: could not open port 'COM6': PermissionError(13, 'Access is denied.', None, 5)\n",
      "Tekan '1' untuk RUN (kirim '1')\n",
      "Tekan '0' untuk STOP (kirim '0')\n",
      "Tekan 'q' untuk keluar\n"
     ]
    },
    {
     "name": "stdin",
     "output_type": "stream",
     "text": [
      "Input [1/0/q]:  q\n"
     ]
    },
    {
     "name": "stdout",
     "output_type": "stream",
     "text": [
      "Keluar dari program.\n"
     ]
    }
   ],
   "source": [
    "import keyboard\n",
    "import serial as s\n",
    "port = \"COM4\"\n",
    "baudrate = 115200\n",
    "\n",
    "try:\n",
    "    ser = s.Serial(port, baudrate, timeout=1)\n",
    "    print(f\"Terhubung ke {port} pada {baudrate} baudrate.\")\n",
    "except Exception as e:\n",
    "    print(f\"Gagal membuka port {port}: {e}\")\n",
    "    exit()\n",
    "\n",
    "print(\"Tekan '1' untuk RUN (kirim '1')\")\n",
    "print(\"Tekan '0' untuk STOP (kirim '0')\")\n",
    "print(\"Tekan 'q' untuk keluar\")\n",
    "\n",
    "while True:\n",
    "    cmd = input(\"Input [1/0/q]: \").strip()\n",
    "    if cmd == '1':\n",
    "        ser.write(b'1')\n",
    "        print(\"Kirim: 1 (RUN)\")\n",
    "    elif cmd == '0':\n",
    "        ser.write(b'0')\n",
    "        print(\"Kirim: 0 (STOP)\")\n",
    "    elif cmd.lower() == 'q':\n",
    "        print(\"Keluar dari program.\")\n",
    "        break\n",
    "        ser.close()        \n",
    "    else:\n",
    "        print(\"Perintah tidak dikenal. Masukkan '1', '0', atau 'q'.\")\n"
   ]
  },
  {
   "cell_type": "code",
   "execution_count": 2,
   "metadata": {},
   "outputs": [
    {
     "name": "stdout",
     "output_type": "stream",
     "text": [
      "Terhubung ke COM4 pada 115200 baudrate.\n",
      "Tekan '1' untuk RUN (kirim '1')\n",
      "Tekan '0' untuk STOP (kirim '0')\n",
      "Tekan 'q' untuk keluar\n"
     ]
    },
    {
     "name": "stdin",
     "output_type": "stream",
     "text": [
      "Input [1/2/3/4/0/q]:  1\n"
     ]
    },
    {
     "name": "stdout",
     "output_type": "stream",
     "text": [
      "Kirim: 1 (FOWARD)\n",
      "Perintah tidak dikenal. Masukkan '1','2','3','4', '0', atau 'q'.\n"
     ]
    },
    {
     "name": "stdin",
     "output_type": "stream",
     "text": [
      "Input [1/2/3/4/0/q]:  0\n"
     ]
    },
    {
     "name": "stdout",
     "output_type": "stream",
     "text": [
      "Kirim: 0 (STOP)\n"
     ]
    },
    {
     "name": "stdin",
     "output_type": "stream",
     "text": [
      "Input [1/2/3/4/0/q]:  q\n"
     ]
    },
    {
     "name": "stdout",
     "output_type": "stream",
     "text": [
      "Keluar dari program.\n"
     ]
    }
   ],
   "source": [
    "import keyboard\n",
    "import serial as s\n",
    "port = \"COM4\"\n",
    "baudrate = 115200\n",
    "\n",
    "try:\n",
    "    ser = s.Serial(port, baudrate, timeout=1)\n",
    "    print(f\"Terhubung ke {port} pada {baudrate} baudrate.\")\n",
    "except Exception as e:\n",
    "    print(f\"Gagal membuka port {port}: {e}\")\n",
    "    exit()\n",
    "\n",
    "print(\"Tekan '1' untuk RUN (kirim '1')\")\n",
    "print(\"Tekan '0' untuk STOP (kirim '0')\")\n",
    "print(\"Tekan 'q' untuk keluar\")\n",
    "\n",
    "while True:\n",
    "    cmd = input(\"Input [1/2/3/4/0/q]: \").strip()\n",
    "    if cmd == '1':\n",
    "        ser.write(b'1')\n",
    "        print(\"Kirim: 1 (FOWARD)\")\n",
    "    if cmd == '2':\n",
    "        ser.write(b'2')\n",
    "        print(\"Kirim: 2 (TURN RIGHT)\")\n",
    "    if cmd == '3':\n",
    "        ser.write(b'3')\n",
    "        print(\"Kirim: 3 (TURN LEFT)\")\n",
    "    if cmd == '4':\n",
    "        ser.write(b'4')\n",
    "        print(\"Kirim: 4 (BACKWARD)\")\n",
    "    elif cmd == '0':\n",
    "        ser.write(b'0')\n",
    "        print(\"Kirim: 0 (STOP)\")\n",
    "    elif cmd.lower() == 'q':\n",
    "        print(\"Keluar dari program.\")\n",
    "        break\n",
    "        ser.close()        \n",
    "    else:\n",
    "        print(\"Perintah tidak dikenal. Masukkan '1','2','3','4', '0', atau 'q'.\")\n"
   ]
  },
  {
   "cell_type": "code",
   "execution_count": null,
   "metadata": {},
   "outputs": [],
   "source": []
  }
 ],
 "metadata": {
  "anaconda-cloud": {},
  "kernelspec": {
   "display_name": "Python [conda env:base] *",
   "language": "python",
   "name": "conda-base-py"
  },
  "language_info": {
   "codemirror_mode": {
    "name": "ipython",
    "version": 3
   },
   "file_extension": ".py",
   "mimetype": "text/x-python",
   "name": "python",
   "nbconvert_exporter": "python",
   "pygments_lexer": "ipython3",
   "version": "3.12.7"
  },
  "widgets": {
   "state": {
    "43a770e6b0524d899f4a1126019a0c2f": {
     "views": [
      {
       "cell_index": 1
      }
     ]
    }
   },
   "version": "1.2.0"
  }
 },
 "nbformat": 4,
 "nbformat_minor": 4
}
